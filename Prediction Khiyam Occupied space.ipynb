{
 "cells": [
  {
   "cell_type": "code",
   "execution_count": 329,
   "metadata": {},
   "outputs": [
    {
     "data": {
      "text/plain": [
       "array([ 2412.86213806])"
      ]
     },
     "execution_count": 329,
     "metadata": {},
     "output_type": "execute_result"
    },
    {
     "data": {
      "image/png": "[encoded data removed]",
      "text/plain": [
       "<matplotlib.figure.Figure at 0x28a16f19470>"
      ]
     },
     "metadata": {},
     "output_type": "display_data"
    }
   ],
   "source": [
    "import matplotlib\n",
    "import matplotlib.pyplot as plt\n",
    "import matplotlib.image as mpimg\n",
    "import numpy as np\n",
    "import pandas as pd\n",
    "from pylab import *\n",
    "from sklearn.linear_model import LinearRegression\n",
    "from sklearn.svm import SVC\n",
    "from PIL import Image\n",
    "from PIL import *\n",
    "%matplotlib inline \n",
    "\n",
    "image1 = Image.open('2004b.jpg') \n",
    "image2 = Image.open('2008b.jpg') \n",
    "image3 = Image.open('2010b.jpg') \n",
    "image4 = Image.open('2013b.jpg') \n",
    "image5 = Image.open('2016b.jpg') \n",
    "    \n",
    "im_array1 = np.array(image1)\n",
    "im_array2 = np.array(image2)\n",
    "im_array3 = np.array(image3)\n",
    "im_array4 = np.array(image4)\n",
    "im_array5 = np.array(image5)\n",
    "\n",
    "image6 = Image.open('prediction_features.jpg')\n",
    "im_array6 = np.array(image6)\n",
    "\n",
    "X = [[mean(im_array1)], [mean(im_array2)], [mean(im_array3)], [mean(im_array4)], [mean(im_array5)]]\n",
    "y = [2004, 2008, 2010, 2013, 2016]  \n",
    "\n",
    "model = LinearRegression()\n",
    "model.fit(X, y)\n",
    "\n",
    "y_test = [2013]\n",
    "X_test = [[mean(im_array4)]]\n",
    "y_predict = model.predict(X_test)\n",
    "\n",
    "X_predict = [[mean(im_array6)]]\n",
    "y_predict = model.predict(X_predict)\n",
    "\n",
    "figure(figsize=(10,5))\n",
    "\n",
    "plot(X, y)\n",
    "\n",
    "y_predict\n",
    "#X_predict, X, im_array6"
   ]
  },
  {
   "cell_type": "code",
   "execution_count": null,
   "metadata": {
    "collapsed": true
   },
   "outputs": [],
   "source": []
  },
  {
   "cell_type": "code",
   "execution_count": null,
   "metadata": {
    "collapsed": true
   },
   "outputs": [],
   "source": []
  }
 ],
 "metadata": {
  "kernelspec": {
   "display_name": "Python 3",
   "language": "python",
   "name": "python3"
  },
  "language_info": {
   "codemirror_mode": {
    "name": "ipython",
    "version": 3
   },
   "file_extension": ".py",
   "mimetype": "text/x-python",
   "name": "python",
   "nbconvert_exporter": "python",
   "pygments_lexer": "ipython3",
   "version": "3.6.1"
  }
 },
 "nbformat": 4,
 "nbformat_minor": 2
}
